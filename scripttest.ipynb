{
 "cells": [
  {
   "cell_type": "code",
   "execution_count": 7,
   "metadata": {},
   "outputs": [
    {
     "data": {
      "text/plain": [
       "10"
      ]
     },
     "execution_count": 7,
     "metadata": {},
     "output_type": "execute_result"
    }
   ],
   "source": [
    "import Dependancies.DSAGraph as DSAgraph\n",
    "graph = DSAgraph.Graph()\n",
    "#create vertices\n",
    "graph.importFile(\"txtFiles/location.txt\", \"txtFiles/UAVdata.txt\")\n",
    "graph.vertices.ndCount"
   ]
  },
  {
   "cell_type": "code",
   "execution_count": 8,
   "metadata": {},
   "outputs": [
    {
     "name": "stdout",
     "output_type": "stream",
     "text": [
      "J |:  I 2.2 | G 2.8 | \n",
      "I |:  J 2.2 | E 3.4 | \n",
      "H |:  G 3.5 | F 1.9 | D 2.9 | \n",
      "G |:  J 2.8 | H 3.5 | E 2.6 | C 3.1 | \n",
      "D |:  H 2.9 | C 1.3 | \n",
      "F |:  H 1.9 | E 1.2 | B 2.5 | \n",
      "E |:  I 3.4 | G 2.6 | F 1.2 | A 1.8 | \n",
      "C |:  G 3.1 | D 1.3 | B 4.2 | A 2.1 | \n",
      "B |:  F 2.5 | C 4.2 | A 3.5 | \n",
      "A |:  E 1.8 | C 2.1 | B 3.5 | \n"
     ]
    }
   ],
   "source": [
    "graph.displayAsList()"
   ]
  },
  {
   "cell_type": "code",
   "execution_count": 9,
   "metadata": {},
   "outputs": [],
   "source": [
    "graph.removeEdge(\"A\", \"E\")"
   ]
  },
  {
   "cell_type": "code",
   "execution_count": 10,
   "metadata": {},
   "outputs": [
    {
     "name": "stdout",
     "output_type": "stream",
     "text": [
      "J |:  I 2.2 | G 2.8 | \n",
      "I |:  J 2.2 | E 3.4 | \n",
      "H |:  G 3.5 | F 1.9 | D 2.9 | \n",
      "G |:  J 2.8 | H 3.5 | E 2.6 | C 3.1 | \n",
      "D |:  H 2.9 | C 1.3 | \n",
      "F |:  H 1.9 | E 1.2 | B 2.5 | \n",
      "E |:  I 3.4 | G 2.6 | F 1.2 | A 1.8 | \n",
      "C |:  G 3.1 | D 1.3 | B 4.2 | A 2.1 | \n",
      "B |:  F 2.5 | C 4.2 | A 3.5 | \n",
      "A |:  E 1.8 | C 2.1 | B 3.5 | \n"
     ]
    }
   ],
   "source": [
    "graph.displayAsList()"
   ]
  },
  {
   "cell_type": "code",
   "execution_count": 11,
   "metadata": {},
   "outputs": [],
   "source": [
    "graph.removeEdge(\"A\", \"E\")"
   ]
  },
  {
   "cell_type": "code",
   "execution_count": 12,
   "metadata": {},
   "outputs": [
    {
     "name": "stdout",
     "output_type": "stream",
     "text": [
      "J |:  I 2.2 | G 2.8 | \n",
      "I |:  J 2.2 | E 3.4 | \n",
      "H |:  G 3.5 | F 1.9 | D 2.9 | \n",
      "G |:  J 2.8 | H 3.5 | E 2.6 | C 3.1 | \n",
      "D |:  H 2.9 | C 1.3 | \n",
      "F |:  H 1.9 | E 1.2 | B 2.5 | \n",
      "E |:  I 3.4 | G 2.6 | F 1.2 | A 1.8 | \n",
      "C |:  G 3.1 | D 1.3 | B 4.2 | A 2.1 | \n",
      "B |:  F 2.5 | C 4.2 | A 3.5 | \n",
      "A |:  E 1.8 | C 2.1 | B 3.5 | \n"
     ]
    }
   ],
   "source": [
    "graph.displayAsList()"
   ]
  },
  {
   "cell_type": "code",
   "execution_count": 14,
   "metadata": {},
   "outputs": [],
   "source": [
    "path = graph.dijkstra(\"A\", \"E\")"
   ]
  },
  {
   "cell_type": "code",
   "execution_count": 16,
   "metadata": {},
   "outputs": [
    {
     "name": "stdout",
     "output_type": "stream",
     "text": [
      "Label: A | Value: ('32', '45', '90') | Visited: False\n",
      "Label: E | Value: ('29', '40', '65') | Visited: False\n"
     ]
    }
   ],
   "source": [
    "for item,weight in iter(path):\n",
    "    print(item)"
   ]
  },
  {
   "cell_type": "code",
   "execution_count": null,
   "metadata": {},
   "outputs": [],
   "source": []
  }
 ],
 "metadata": {
  "kernelspec": {
   "display_name": "Python 3",
   "language": "python",
   "name": "python3"
  },
  "language_info": {
   "codemirror_mode": {
    "name": "ipython",
    "version": 3
   },
   "file_extension": ".py",
   "mimetype": "text/x-python",
   "name": "python",
   "nbconvert_exporter": "python",
   "pygments_lexer": "ipython3",
   "version": "3.8.10"
  },
  "orig_nbformat": 4
 },
 "nbformat": 4,
 "nbformat_minor": 2
}
